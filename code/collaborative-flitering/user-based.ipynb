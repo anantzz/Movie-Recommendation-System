{
 "cells": [
  {
   "cell_type": "code",
   "execution_count": 1,
   "metadata": {},
   "outputs": [],
   "source": [
    "import numpy as np\n",
    "import pandas as pd\n",
    "\n",
    "\n",
    "#### movies---> genre\n",
    "movie_dict = {}\n",
    "movie_map = {}\n",
    "\n",
    "with open(\"./content/movies.dat\", \"r\", encoding=\"latin1\") as file:\n",
    "    for line in file:\n",
    "        # Split the line into MovieID, Title, and Genres\n",
    "        parts = line.strip().split(\"::\")\n",
    "        movie_id = parts[0]\n",
    "        title = parts[1]\n",
    "        genres = parts[2].split(\"|\")  # Split genres by \"|\"\n",
    "\n",
    "        # Create a dictionary entry for the movie\n",
    "        movie_dict[movie_id] = {\n",
    "            'title': title,\n",
    "            'genres': genres\n",
    "        }\n",
    "        movie_map[title] = {\n",
    "            'id': movie_id\n",
    "        }\n"
   ]
  },
  {
   "cell_type": "code",
   "execution_count": 2,
   "metadata": {},
   "outputs": [],
   "source": [
    "rm = np.full((6042, 3953), np.nan)"
   ]
  },
  {
   "cell_type": "code",
   "execution_count": 3,
   "metadata": {},
   "outputs": [],
   "source": [
    "with open(\"./content/ratings.dat\", \"r\") as file:\n",
    "    for line in file:\n",
    "        # Split the line into UserID, MovieID, Rating, and Timestamp\n",
    "        parts = line.strip().split(\"::\")\n",
    "        UserID = int(parts[0])\n",
    "        MovieID = int(parts[1])\n",
    "        Rating = float(parts[2])\n",
    "        rm[UserID, MovieID] = Rating"
   ]
  },
  {
   "cell_type": "code",
   "execution_count": 4,
   "metadata": {},
   "outputs": [],
   "source": [
    "def map_age(age):\n",
    "    if age < 18:\n",
    "        return 1\n",
    "    elif age >= 18 and age < 25:\n",
    "        return 18\n",
    "    elif age >= 25 and age < 35:\n",
    "        return 25\n",
    "    elif age >= 35 and age < 45:\n",
    "        return 35\n",
    "    elif age >= 45 and age < 50:\n",
    "        return 45\n",
    "    elif age >= 50 and age < 56:\n",
    "        return 50\n",
    "    elif age >= 56:\n",
    "        return 56"
   ]
  },
  {
   "cell_type": "code",
   "execution_count": 6,
   "metadata": {},
   "outputs": [],
   "source": [
    "user_age = int(input(\"Please enter the age of the user: \"))\n",
    "user_occupation = int(input(\"Enter the occupation number: \"))\n",
    "\n",
    "user_age = map_age(user_age)\n",
    "\n",
    "num_inputs = int(input(\"Enter the number of movies watched: \"))\n",
    "moviess = []\n",
    "rat = []\n",
    "u = 6041\n",
    "for i in range(num_inputs):\n",
    "    line = input(\"Enter the movie: \")\n",
    "    # Split the line into MovieID, Title, and Genres\n",
    "    parts = line.strip().split(\"::\")\n",
    "    title = parts[0]\n",
    "    genres = parts[1].split(\"|\")  # Split genres by \"|\"\n",
    "    movie_id = movie_map[title]['id']\n",
    "    user_input1 = float(input(\"Enter the movie rating: \"))\n",
    "    rat.append(user_input1)\n",
    "    rm[u, int(movie_id)] = user_input1"
   ]
  },
  {
   "cell_type": "code",
   "execution_count": 7,
   "metadata": {},
   "outputs": [],
   "source": [
    "rm = pd.DataFrame(rm)"
   ]
  },
  {
   "cell_type": "code",
   "execution_count": 8,
   "metadata": {},
   "outputs": [
    {
     "name": "stdout",
     "output_type": "stream",
     "text": [
      "0       NaN\n",
      "1       3.0\n",
      "2       NaN\n",
      "3       NaN\n",
      "4       NaN\n",
      "       ... \n",
      "3948    NaN\n",
      "3949    NaN\n",
      "3950    NaN\n",
      "3951    NaN\n",
      "3952    NaN\n",
      "Name: 6040, Length: 3953, dtype: float64\n"
     ]
    }
   ],
   "source": [
    "i = 6040\n",
    "ith_row = rm.iloc[i]\n",
    "print(ith_row)"
   ]
  },
  {
   "cell_type": "code",
   "execution_count": 9,
   "metadata": {},
   "outputs": [
    {
     "name": "stderr",
     "output_type": "stream",
     "text": [
      "/tmp/ipykernel_61983/4140226051.py:8: RuntimeWarning: Mean of empty slice\n",
      "  mean.append(np.nanmean(nmpy[v]))\n"
     ]
    }
   ],
   "source": [
    "nmpy = rm.values\n",
    "list = []\n",
    "\n",
    "num_rows, num_columns = nmpy.shape\n",
    "\n",
    "mean = []\n",
    "for v in range(num_rows):\n",
    "    mean.append(np.nanmean(nmpy[v]))"
   ]
  },
  {
   "cell_type": "code",
   "execution_count": 10,
   "metadata": {},
   "outputs": [],
   "source": [
    "def new_pearson_correlation(X, Y, x, y):\n",
    "    if(X.size == 0):\n",
    "        return 0\n",
    "    # Calculate the mean of X and Y\n",
    "    mean_X = mean[x]\n",
    "    mean_Y = mean[y]\n",
    "    # Calculate the numerator\n",
    "    numerator = np.sum((X - mean_X) * (Y - mean_Y))\n",
    "\n",
    "    # Calculate the denominator\n",
    "    denominator = np.sqrt(np.sum((X - mean_X) ** 2) * np.sum((Y - mean_Y) ** 2))\n",
    "    if(denominator == 0):\n",
    "        return 0\n",
    "    # Calculate the Pearson correlation coefficient\n",
    "    pearson_corr = numerator / denominator\n",
    "\n",
    "    return pearson_corr\n"
   ]
  },
  {
   "cell_type": "code",
   "execution_count": 11,
   "metadata": {},
   "outputs": [],
   "source": [
    "for column_index in range(num_columns):\n",
    "    value = nmpy[u, column_index]\n",
    "    if not np.isnan(value):\n",
    "        list.append(column_index)\n",
    "sim = []\n",
    "for v in range(num_rows):\n",
    "    ratings_u = []\n",
    "    ratings_v = []\n",
    "    for i in list:\n",
    "        value = nmpy[v, i]\n",
    "        if not np.isnan(value):\n",
    "            ratings_u.append(nmpy[u, i])\n",
    "            ratings_v.append(nmpy[v, i])\n",
    "    ratings_u = np.array(ratings_u)\n",
    "    ratings_v = np.array(ratings_v)\n",
    "    sim.append(new_pearson_correlation(ratings_u, ratings_v, u, v))"
   ]
  },
  {
   "cell_type": "code",
   "execution_count": 12,
   "metadata": {},
   "outputs": [
    {
     "name": "stdout",
     "output_type": "stream",
     "text": [
      "Top 5 Recommended Movies for you:\n",
      "                           movie_name\n",
      "0                    Toy Story (1995)\n",
      "1                      Jumanji (1995)\n",
      "2             Grumpier Old Men (1995)\n",
      "3            Waiting to Exhale (1995)\n",
      "4  Father of the Bride Part II (1995)\n"
     ]
    }
   ],
   "source": [
    "df = pd.DataFrame(columns=['movie_index', 'rating_info'])\n",
    "for movie in range(1, 3953):\n",
    "    num = 0\n",
    "    den = 0\n",
    "    for v in range(num_rows):\n",
    "        if not np.isnan(nmpy[v, movie]):\n",
    "            num += sim[v] * (nmpy[v, movie] - mean[v])\n",
    "            den += abs(sim[v])\n",
    "    rating = mean[u]\n",
    "    if(den != 0):\n",
    "        rating += (num/den)\n",
    "    val = nmpy[u, movie]\n",
    "    if np.isnan(val):\n",
    "        df = pd.concat([df, pd.DataFrame([{'movie_index': movie, 'rating_info': rating}])], ignore_index=True)\n",
    "top_rated_movies = df.nlargest(5, 'rating_info')\n",
    "top_rated_movies['movie_name'] = top_rated_movies['movie_index'].map(lambda x: movie_dict[str(x)]['title'])\n",
    "print(\"Top 5 Recommended Movies for you:\")\n",
    "print(top_rated_movies[['movie_name']])\n"
   ]
  }
 ],
 "metadata": {
  "kernelspec": {
   "display_name": "Python 3.8.10 64-bit",
   "language": "python",
   "name": "python3"
  },
  "language_info": {
   "codemirror_mode": {
    "name": "ipython",
    "version": 3
   },
   "file_extension": ".py",
   "mimetype": "text/x-python",
   "name": "python",
   "nbconvert_exporter": "python",
   "pygments_lexer": "ipython3",
   "version": "3.8.10"
  },
  "orig_nbformat": 4,
  "vscode": {
   "interpreter": {
    "hash": "e7370f93d1d0cde622a1f8e1c04877d8463912d04d973331ad4851f04de6915a"
   }
  }
 },
 "nbformat": 4,
 "nbformat_minor": 2
}
