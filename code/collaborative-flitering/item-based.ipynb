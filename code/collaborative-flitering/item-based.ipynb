{
  "cells": [
    {
      "cell_type": "code",
      "execution_count": 14,
      "metadata": {
        "id": "4goy0y6uuLCR"
      },
      "outputs": [],
      "source": [
        "import numpy as np\n",
        "import pandas as pd\n",
        "\n",
        "\n",
        "#### movies---> genre\n",
        "movie_dict = {}\n",
        "movie_map = {}\n",
        "\n",
        "with open(\"./content/movies.dat\", \"r\", encoding=\"latin1\") as file:\n",
        "    for line in file:\n",
        "        # Split the line into MovieID, Title, and Genres\n",
        "        parts = line.strip().split(\"::\")\n",
        "        movie_id = parts[0]\n",
        "        title = parts[1]\n",
        "        genres = parts[2].split(\"|\")  # Split genres by \"|\"\n",
        "\n",
        "        # Create a dictionary entry for the movie\n",
        "        movie_dict[movie_id] = {\n",
        "            'title': title,\n",
        "            'genres': genres\n",
        "        }\n",
        "        movie_map[title] = {\n",
        "            'id': movie_id\n",
        "        }"
      ]
    },
    {
      "cell_type": "markdown",
      "metadata": {},
      "source": [
        "Collaborative Filtering"
      ]
    },
    {
      "cell_type": "code",
      "execution_count": 15,
      "metadata": {},
      "outputs": [],
      "source": [
        "rm = np.full((6041, 4000), np.nan)"
      ]
    },
    {
      "cell_type": "code",
      "execution_count": 16,
      "metadata": {
        "id": "xDPbVf4_2I0T"
      },
      "outputs": [],
      "source": [
        "with open(\"./content/ratings.dat\", \"r\") as file:\n",
        "    for line in file:\n",
        "        # Split the line into UserID, MovieID, Rating, and Timestamp\n",
        "        parts = line.strip().split(\"::\")\n",
        "        UserID = int(parts[0])\n",
        "        MovieID = int(parts[1])\n",
        "        Rating = float(parts[2])\n",
        "        rm[UserID, MovieID] = Rating"
      ]
    },
    {
      "cell_type": "code",
      "execution_count": 17,
      "metadata": {},
      "outputs": [],
      "source": [
        "rm = pd.DataFrame(rm)"
      ]
    },
    {
      "cell_type": "code",
      "execution_count": 18,
      "metadata": {},
      "outputs": [
        {
          "data": {
            "text/html": [
              "<div>\n",
              "<style scoped>\n",
              "    .dataframe tbody tr th:only-of-type {\n",
              "        vertical-align: middle;\n",
              "    }\n",
              "\n",
              "    .dataframe tbody tr th {\n",
              "        vertical-align: top;\n",
              "    }\n",
              "\n",
              "    .dataframe thead th {\n",
              "        text-align: right;\n",
              "    }\n",
              "</style>\n",
              "<table border=\"1\" class=\"dataframe\">\n",
              "  <thead>\n",
              "    <tr style=\"text-align: right;\">\n",
              "      <th></th>\n",
              "      <th>0</th>\n",
              "      <th>1</th>\n",
              "      <th>2</th>\n",
              "      <th>3</th>\n",
              "      <th>4</th>\n",
              "      <th>5</th>\n",
              "      <th>6</th>\n",
              "      <th>7</th>\n",
              "      <th>8</th>\n",
              "      <th>9</th>\n",
              "      <th>...</th>\n",
              "      <th>3990</th>\n",
              "      <th>3991</th>\n",
              "      <th>3992</th>\n",
              "      <th>3993</th>\n",
              "      <th>3994</th>\n",
              "      <th>3995</th>\n",
              "      <th>3996</th>\n",
              "      <th>3997</th>\n",
              "      <th>3998</th>\n",
              "      <th>3999</th>\n",
              "    </tr>\n",
              "  </thead>\n",
              "  <tbody>\n",
              "    <tr>\n",
              "      <th>0</th>\n",
              "      <td>NaN</td>\n",
              "      <td>NaN</td>\n",
              "      <td>NaN</td>\n",
              "      <td>NaN</td>\n",
              "      <td>NaN</td>\n",
              "      <td>NaN</td>\n",
              "      <td>NaN</td>\n",
              "      <td>NaN</td>\n",
              "      <td>NaN</td>\n",
              "      <td>NaN</td>\n",
              "      <td>...</td>\n",
              "      <td>NaN</td>\n",
              "      <td>NaN</td>\n",
              "      <td>NaN</td>\n",
              "      <td>NaN</td>\n",
              "      <td>NaN</td>\n",
              "      <td>NaN</td>\n",
              "      <td>NaN</td>\n",
              "      <td>NaN</td>\n",
              "      <td>NaN</td>\n",
              "      <td>NaN</td>\n",
              "    </tr>\n",
              "    <tr>\n",
              "      <th>1</th>\n",
              "      <td>NaN</td>\n",
              "      <td>5.0</td>\n",
              "      <td>NaN</td>\n",
              "      <td>NaN</td>\n",
              "      <td>NaN</td>\n",
              "      <td>NaN</td>\n",
              "      <td>NaN</td>\n",
              "      <td>NaN</td>\n",
              "      <td>NaN</td>\n",
              "      <td>NaN</td>\n",
              "      <td>...</td>\n",
              "      <td>NaN</td>\n",
              "      <td>NaN</td>\n",
              "      <td>NaN</td>\n",
              "      <td>NaN</td>\n",
              "      <td>NaN</td>\n",
              "      <td>NaN</td>\n",
              "      <td>NaN</td>\n",
              "      <td>NaN</td>\n",
              "      <td>NaN</td>\n",
              "      <td>NaN</td>\n",
              "    </tr>\n",
              "    <tr>\n",
              "      <th>2</th>\n",
              "      <td>NaN</td>\n",
              "      <td>NaN</td>\n",
              "      <td>NaN</td>\n",
              "      <td>NaN</td>\n",
              "      <td>NaN</td>\n",
              "      <td>NaN</td>\n",
              "      <td>NaN</td>\n",
              "      <td>NaN</td>\n",
              "      <td>NaN</td>\n",
              "      <td>NaN</td>\n",
              "      <td>...</td>\n",
              "      <td>NaN</td>\n",
              "      <td>NaN</td>\n",
              "      <td>NaN</td>\n",
              "      <td>NaN</td>\n",
              "      <td>NaN</td>\n",
              "      <td>NaN</td>\n",
              "      <td>NaN</td>\n",
              "      <td>NaN</td>\n",
              "      <td>NaN</td>\n",
              "      <td>NaN</td>\n",
              "    </tr>\n",
              "    <tr>\n",
              "      <th>3</th>\n",
              "      <td>NaN</td>\n",
              "      <td>NaN</td>\n",
              "      <td>NaN</td>\n",
              "      <td>NaN</td>\n",
              "      <td>NaN</td>\n",
              "      <td>NaN</td>\n",
              "      <td>NaN</td>\n",
              "      <td>NaN</td>\n",
              "      <td>NaN</td>\n",
              "      <td>NaN</td>\n",
              "      <td>...</td>\n",
              "      <td>NaN</td>\n",
              "      <td>NaN</td>\n",
              "      <td>NaN</td>\n",
              "      <td>NaN</td>\n",
              "      <td>NaN</td>\n",
              "      <td>NaN</td>\n",
              "      <td>NaN</td>\n",
              "      <td>NaN</td>\n",
              "      <td>NaN</td>\n",
              "      <td>NaN</td>\n",
              "    </tr>\n",
              "    <tr>\n",
              "      <th>4</th>\n",
              "      <td>NaN</td>\n",
              "      <td>NaN</td>\n",
              "      <td>NaN</td>\n",
              "      <td>NaN</td>\n",
              "      <td>NaN</td>\n",
              "      <td>NaN</td>\n",
              "      <td>NaN</td>\n",
              "      <td>NaN</td>\n",
              "      <td>NaN</td>\n",
              "      <td>NaN</td>\n",
              "      <td>...</td>\n",
              "      <td>NaN</td>\n",
              "      <td>NaN</td>\n",
              "      <td>NaN</td>\n",
              "      <td>NaN</td>\n",
              "      <td>NaN</td>\n",
              "      <td>NaN</td>\n",
              "      <td>NaN</td>\n",
              "      <td>NaN</td>\n",
              "      <td>NaN</td>\n",
              "      <td>NaN</td>\n",
              "    </tr>\n",
              "  </tbody>\n",
              "</table>\n",
              "<p>5 rows × 4000 columns</p>\n",
              "</div>"
            ],
            "text/plain": [
              "   0     1     2     3     4     5     6     7     8     9     ...  3990  \\\n",
              "0   NaN   NaN   NaN   NaN   NaN   NaN   NaN   NaN   NaN   NaN  ...   NaN   \n",
              "1   NaN   5.0   NaN   NaN   NaN   NaN   NaN   NaN   NaN   NaN  ...   NaN   \n",
              "2   NaN   NaN   NaN   NaN   NaN   NaN   NaN   NaN   NaN   NaN  ...   NaN   \n",
              "3   NaN   NaN   NaN   NaN   NaN   NaN   NaN   NaN   NaN   NaN  ...   NaN   \n",
              "4   NaN   NaN   NaN   NaN   NaN   NaN   NaN   NaN   NaN   NaN  ...   NaN   \n",
              "\n",
              "   3991  3992  3993  3994  3995  3996  3997  3998  3999  \n",
              "0   NaN   NaN   NaN   NaN   NaN   NaN   NaN   NaN   NaN  \n",
              "1   NaN   NaN   NaN   NaN   NaN   NaN   NaN   NaN   NaN  \n",
              "2   NaN   NaN   NaN   NaN   NaN   NaN   NaN   NaN   NaN  \n",
              "3   NaN   NaN   NaN   NaN   NaN   NaN   NaN   NaN   NaN  \n",
              "4   NaN   NaN   NaN   NaN   NaN   NaN   NaN   NaN   NaN  \n",
              "\n",
              "[5 rows x 4000 columns]"
            ]
          },
          "execution_count": 18,
          "metadata": {},
          "output_type": "execute_result"
        }
      ],
      "source": [
        "rm.head()"
      ]
    },
    {
      "cell_type": "code",
      "execution_count": 19,
      "metadata": {},
      "outputs": [
        {
          "name": "stdout",
          "output_type": "stream",
          "text": [
            "[[nan nan nan ... nan nan nan]\n",
            " [nan  5. nan ... nan nan  3.]\n",
            " [nan nan nan ... nan nan nan]\n",
            " ...\n",
            " [nan nan nan ... nan nan nan]\n",
            " [nan nan nan ... nan nan nan]\n",
            " [nan nan nan ... nan nan nan]]\n"
          ]
        }
      ],
      "source": [
        "#item based collaborative filtering\n",
        "nmpy = rm.values\n",
        "nmpy = nmpy.T\n",
        "print(nmpy)"
      ]
    },
    {
      "cell_type": "code",
      "execution_count": 20,
      "metadata": {},
      "outputs": [
        {
          "name": "stderr",
          "output_type": "stream",
          "text": [
            "/tmp/ipykernel_60697/384280411.py:8: RuntimeWarning: Mean of empty slice\n",
            "  mean.append(np.nanmean(nmpy[v]))\n"
          ]
        }
      ],
      "source": [
        "u = int(input(\"Enter Movie ID\"))\n",
        "list = []\n",
        "\n",
        "num_rows, num_columns = nmpy.shape\n",
        "\n",
        "mean = []\n",
        "for v in range(num_rows):\n",
        "    mean.append(np.nanmean(nmpy[v]))\n",
        "# print(mean)\n"
      ]
    },
    {
      "cell_type": "code",
      "execution_count": 21,
      "metadata": {},
      "outputs": [],
      "source": [
        "def new_pearson_correlation(X, Y, x, y):\n",
        "    if(X.size == 0):\n",
        "        return 0\n",
        "    # Calculate the mean of X and Y\n",
        "    mean_X = mean[x]\n",
        "    mean_Y = mean[y]\n",
        "    # Calculate the numerator\n",
        "    numerator = np.sum((X - mean_X) * (Y - mean_Y))\n",
        "\n",
        "    # Calculate the denominator\n",
        "    denominator = np.sqrt(np.sum((X - mean_X) ** 2) * np.sum((Y - mean_Y) ** 2))\n",
        "    if(denominator == 0):\n",
        "        return 0\n",
        "    # Calculate the Pearson correlation coefficient\n",
        "    pearson_corr = numerator / denominator\n",
        "\n",
        "    return pearson_corr\n"
      ]
    },
    {
      "cell_type": "code",
      "execution_count": 22,
      "metadata": {},
      "outputs": [],
      "source": [
        "for column_index in range(num_columns):\n",
        "    value = nmpy[u, column_index]\n",
        "    if not np.isnan(value):\n",
        "        list.append(column_index)\n",
        "sim = []\n",
        "for v in range(num_rows):\n",
        "    ratings_u = []\n",
        "    ratings_v = []\n",
        "    for i in list:\n",
        "        value = nmpy[v, i]\n",
        "        if not np.isnan(value):\n",
        "            ratings_u.append(nmpy[u, i])\n",
        "            ratings_v.append(nmpy[v, i])\n",
        "    ratings_u = np.array(ratings_u)\n",
        "    ratings_v = np.array(ratings_v)\n",
        "    sim.append(new_pearson_correlation(ratings_u, ratings_v, u, v))"
      ]
    },
    {
      "cell_type": "code",
      "execution_count": 23,
      "metadata": {},
      "outputs": [
        {
          "name": "stdout",
          "output_type": "stream",
          "text": [
            "2.8333836798248253\n"
          ]
        }
      ],
      "source": [
        "movie = int(input(\"Enter user-id\"))\n",
        "num = 0\n",
        "den = 0\n",
        "for v in range(num_rows):\n",
        "    if not np.isnan(nmpy[v, movie]):\n",
        "        num += sim[v] * (nmpy[v, movie] - mean[v])\n",
        "        den += abs(sim[v])\n",
        "rating = (num/den) + mean[u]\n",
        "print(rating)"
      ]
    }
  ],
  "metadata": {
    "colab": {
      "provenance": []
    },
    "kernelspec": {
      "display_name": "Python 3.8.10 64-bit",
      "language": "python",
      "name": "python3"
    },
    "language_info": {
      "codemirror_mode": {
        "name": "ipython",
        "version": 3
      },
      "file_extension": ".py",
      "mimetype": "text/x-python",
      "name": "python",
      "nbconvert_exporter": "python",
      "pygments_lexer": "ipython3",
      "version": "3.8.10"
    },
    "vscode": {
      "interpreter": {
        "hash": "e7370f93d1d0cde622a1f8e1c04877d8463912d04d973331ad4851f04de6915a"
      }
    }
  },
  "nbformat": 4,
  "nbformat_minor": 0
}
